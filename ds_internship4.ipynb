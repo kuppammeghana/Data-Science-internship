{
  "nbformat": 4,
  "nbformat_minor": 0,
  "metadata": {
    "colab": {
      "provenance": []
    },
    "kernelspec": {
      "name": "python3",
      "display_name": "Python 3"
    },
    "language_info": {
      "name": "python"
    }
  },
  "cells": [
    {
      "cell_type": "code",
      "source": [
        "def swap_case(s):\n",
        "    case_change=[]\n",
        "    for i in range(len(s)):\n",
        "        if (s[i].isupper())==True:\n",
        "            case_change.append(s[i].lower())\n",
        "        elif (s[i].islower()==True):\n",
        "            case_change.append(s[i].upper())\n",
        "        else:\n",
        "            case_change.append(s[i])    \n",
        "        stri=''\n",
        "    return stri.join(case_change)"
      ],
      "metadata": {
        "id": "-NyWloC9hZom"
      },
      "execution_count": null,
      "outputs": []
    },
    {
      "cell_type": "code",
      "source": [
        "def split_and_join(line):\n",
        "    # write your code here\n",
        "    a=line.split()\n",
        "    result=\"-\".join(a)\n",
        "    return result"
      ],
      "metadata": {
        "id": "Vu0lDbzkhabH"
      },
      "execution_count": null,
      "outputs": []
    },
    {
      "cell_type": "code",
      "source": [
        "\n",
        "def print_full_name(a,b):\n",
        "    # Write your code here\n",
        "    print(\"Hello %s %s! You just delved into python.\"%(a,b))"
      ],
      "metadata": {
        "id": "7u8xQlbshn7F"
      },
      "execution_count": null,
      "outputs": []
    },
    {
      "cell_type": "code",
      "source": [
        "def mutate_string(string, position, character):\n",
        "    lis=list(string)\n",
        "    lis[position]=character\n",
        "    return ''.join(lis)"
      ],
      "metadata": {
        "id": "X9AqdJDahokW"
      },
      "execution_count": null,
      "outputs": []
    },
    {
      "cell_type": "code",
      "source": [
        "def count_substring(string, sub_string):\n",
        "    count=0\n",
        "    for i in range(len(string)):\n",
        "        for j in range(len(sub_string)):\n",
        "            if string[i+j]==sub_string[j] and j==(len(sub_string)-1):\n",
        "                count=count+1  \n",
        "            if string[i+j]!=sub_string[j]:\n",
        "                break  \n",
        "        if i==len(string)-len(sub_string):\n",
        "            break            \n",
        "    return count"
      ],
      "metadata": {
        "id": "OD30EceehwGw"
      },
      "execution_count": null,
      "outputs": []
    },
    {
      "cell_type": "code",
      "source": [
        "def pr(t):\n",
        "    if t==1:\n",
        "        print(True)\n",
        "    else:\n",
        "        print(False)\n",
        "if __name__ == '__main__':\n",
        "    s = raw_input()\n",
        "    t=0\n",
        "    for i in s:\n",
        "        if i.isalnum()==True:\n",
        "            t=1\n",
        "            break\n",
        "    pr(t)\n",
        "    t=0\n",
        "    for i in s:\n",
        "        if i.isalpha()==True:\n",
        "            t=1\n",
        "            break\n",
        "    pr(t)\n",
        "    t=0    \n",
        "    for i in s:\n",
        "        if i.isdigit()==True:\n",
        "            t=1\n",
        "            break   \n",
        "    pr(t)  \n",
        "    t=0\n",
        "    for i in s:\n",
        "        if i.islower()==True:\n",
        "            t=1\n",
        "            break\n",
        "    pr(t)\n",
        "    t=0\n",
        "    for i in s:\n",
        "        if i.isupper()==True:\n",
        "            t=1\n",
        "            break\n",
        "    pr(t)"
      ],
      "metadata": {
        "id": "Fb2TJyAkh29Y"
      },
      "execution_count": null,
      "outputs": []
    },
    {
      "cell_type": "code",
      "source": [
        "thickness = int(input()) \n",
        "c = 'H'\n",
        "for i in range(thickness):\n",
        "    print((c*i).rjust(thickness-1)+c+(c*i).ljust(thickness-1))\n",
        "for i in range(thickness+1):\n",
        "    print((c*thickness).center(thickness*2)+(c*thickness).center(thickness*6))\n",
        "for i in range((thickness+1)//2):\n",
        "    print((c*thickness*5).center(thickness*6))    \n",
        "for i in range(thickness+1):\n",
        "    print((c*thickness).center(thickness*2)+(c*thickness).center(thickness*6))    \n",
        "for i in range(thickness):\n",
        "    print(((c*(thickness-i-1)).rjust(thickness)+c+(c*(thickness-i-1)).ljust(thickness)).rjust(thickness*6))"
      ],
      "metadata": {
        "id": "c-mTkHr5h-sS"
      },
      "execution_count": null,
      "outputs": []
    },
    {
      "cell_type": "code",
      "source": [
        "def wrap(string, max_width):\n",
        "    return textwrap.TextWrapper(width=max_width).fill(text=string)\n",
        "    "
      ],
      "metadata": {
        "id": "LiupSDITiVg1"
      },
      "execution_count": null,
      "outputs": []
    },
    {
      "cell_type": "code",
      "source": [
        "n,m=input().split()\n",
        "c='|'\n",
        "v='.'\n",
        "n=int(n)\n",
        "m=int(m)\n",
        "j=n//2-1\n",
        "for i in range(n):\n",
        "    if i==n//2:\n",
        "        print('WELCOME'.center(m,'-'))\n",
        "    else:\n",
        "        if i<n/2:    \n",
        "            print(((v+c+v)*(2*i+1)).center(m,'-'))\n",
        "        else:\n",
        "            print(((v+c+v)*(2*j+1)).center(m,'-'))\n",
        "            j=j-1"
      ],
      "metadata": {
        "id": "bPWDG1U0iexB"
      },
      "execution_count": null,
      "outputs": []
    },
    {
      "cell_type": "code",
      "source": [
        "def print_formatted(number):\n",
        "    # your code goes here\n",
        "    l1 = len(bin(number)[2:])\n",
        "    for i in range(1,number+1):\n",
        "        print(str(i).rjust(l1,' '),end=\" \")\n",
        "        print(oct(i)[2:].rjust(l1,' '),end=\" \")\n",
        "        print(((hex(i)[2:]).upper()).rjust(l1,' '),end=\" \")\n",
        "        print(bin(i)[2:].rjust(l1,' '),end=\" \")\n",
        "        print(\"\")"
      ],
      "metadata": {
        "id": "lFUZD9iHiorT"
      },
      "execution_count": null,
      "outputs": []
    },
    {
      "cell_type": "code",
      "source": [
        "def print_rangoli(size):\n",
        "    # your code goes here\n",
        "    width  = size*4-3\n",
        "    string = ''\n",
        "    for i in range(1,size+1):\n",
        "        for j in range(0,i):\n",
        "            string += chr(96+size-j)\n",
        "            if len(string) < width :\n",
        "                string += '-'\n",
        "        for k in range(i-1,0,-1):    \n",
        "            string += chr(97+size-k)\n",
        "            if len(string) < width :\n",
        "                string += '-'\n",
        "        print(string.center(width,'-'))\n",
        "        string = ''\n",
        "\n",
        "    for i in range(size-1,0,-1):\n",
        "        string = ''\n",
        "        for j in range(0,i):\n",
        "            string += chr(96+size-j)\n",
        "            if len(string) < width :\n",
        "                string += '-'\n",
        "        for k in range(i-1,0,-1):\n",
        "            string += chr(97+size-k)\n",
        "            if len(string) < width :\n",
        "                string += '-'\n",
        "        print(string.center(width,'-'))"
      ],
      "metadata": {
        "id": "JLwS4BR0iwOW"
      },
      "execution_count": null,
      "outputs": []
    },
    {
      "cell_type": "code",
      "source": [
        "def solve(s):\n",
        "    result=[]\n",
        "    name=re.split(r'(\\s+)',s)\n",
        "    for i in range(len(name)):\n",
        "       result.append(str(name[i]).capitalize())\n",
        "    return ''.join(str(ele) for ele in result)"
      ],
      "metadata": {
        "id": "PRp2Eee4jAuT"
      },
      "execution_count": null,
      "outputs": []
    },
    {
      "cell_type": "code",
      "source": [
        "def minion_game(string):\n",
        "    # your code goes here\n",
        "    vw = 'aeiou'.upper()\n",
        "    strl = len(string)\n",
        "    kevin = sum(strl-i for i in range(strl) if string[i] in vw)\n",
        "    stuart = strl*(strl + 1)/2 - kevin\n",
        "    if kevin == stuart:\n",
        "        print ('Draw')\n",
        "    elif kevin > stuart:\n",
        "        print ('Kevin %d' % kevin)\n",
        "    else:\n",
        "        print ('Stuart %d' % stuart)"
      ],
      "metadata": {
        "id": "nh8B5nyfjrDN"
      },
      "execution_count": null,
      "outputs": []
    },
    {
      "cell_type": "code",
      "source": [
        "def merge_the_tools(string, k):\n",
        "    # your code goes here\n",
        "    split_string=(string[i:i+k] for i in range(0,len(string),k))\n",
        "    for i in split_string:\n",
        "        u=[]\n",
        "        u.append(i[0])\n",
        "        for j in range(1,len(i)):\n",
        "            if i[j] in u:\n",
        "                continue\n",
        "            else:\n",
        "                u.append(i[j])\n",
        "        print(''.join(str(e) for e in u))"
      ],
      "metadata": {
        "id": "HpLvEH7dj1Mg"
      },
      "execution_count": null,
      "outputs": []
    }
  ]
}