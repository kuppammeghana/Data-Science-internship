{
  "nbformat": 4,
  "nbformat_minor": 0,
  "metadata": {
    "colab": {
      "provenance": []
    },
    "kernelspec": {
      "name": "python3",
      "display_name": "Python 3"
    },
    "language_info": {
      "name": "python"
    }
  },
  "cells": [
    {
      "cell_type": "code",
      "source": [
        "if __name__ == '__main__':\n",
        "    x = int(raw_input())\n",
        "    y = int(raw_input())\n",
        "    z = int(raw_input())\n",
        "    n = int(raw_input())\n",
        "    output=[]\n",
        "    for i in range(x+1):\n",
        "        for j in range(y+1):\n",
        "            for k in range(z+1):\n",
        "                if i+j+k==n:\n",
        "                    continue\n",
        "                else:\n",
        "                    output.append([i,j,k])\n",
        "    print(output)"
      ],
      "metadata": {
        "id": "Bgl1zdHMZ_K8"
      },
      "execution_count": null,
      "outputs": []
    },
    {
      "cell_type": "code",
      "source": [
        "if __name__ == '__main__':\n",
        "    n = int(raw_input())\n",
        "    arr = map(int, raw_input().split())\n",
        "    arr=sorted(arr,reverse=True)\n",
        "    for i in range(len(arr)):\n",
        "        if arr[i]==arr[0]:\n",
        "            continue\n",
        "        else:\n",
        "            print(arr[i])\n",
        "            break\n"
      ],
      "metadata": {
        "id": "Or_nDj3ZaAUO"
      },
      "execution_count": null,
      "outputs": []
    },
    {
      "cell_type": "code",
      "source": [
        "result=[]\n",
        "scorelist=[]\n",
        "if __name__ == '__main__':\n",
        "    for _ in range(int(raw_input())):\n",
        "        name = raw_input()\n",
        "        score = float(raw_input())\n",
        "        result+=[[name,score]]\n",
        "        scorelist+=[score]\n",
        "    b=sorted(list(set(scorelist)))[1]\n",
        "    for a,c in sorted(result):\n",
        "        if c==b:\n",
        "            print(a)"
      ],
      "metadata": {
        "id": "ugRjhQvhaNKK"
      },
      "execution_count": null,
      "outputs": []
    },
    {
      "cell_type": "code",
      "source": [
        "if __name__ == '__main__':\n",
        "    n = int(raw_input())\n",
        "    student_marks = {}\n",
        "    for _ in range(n):\n",
        "        line = raw_input().split()\n",
        "        name, scores = line[0], line[1:]\n",
        "        scores = map(float, scores)\n",
        "        student_marks[name] = scores\n",
        "    query_name = raw_input()\n",
        "    marks=0\n",
        "    for i in student_marks[query_name]:\n",
        "        marks=marks+i\n",
        "    avg=marks/3\n",
        "    print(\"%.2f\"%avg)"
      ],
      "metadata": {
        "id": "aHKntNq5aN4V"
      },
      "execution_count": null,
      "outputs": []
    },
    {
      "cell_type": "code",
      "source": [
        "\n",
        "if __name__ == '__main__':\n",
        "    N = int(raw_input())\n",
        "arr = []\n",
        "for i in range(N):\n",
        "    s = raw_input().split()\n",
        "    for i in range(1,len(s)):\n",
        "        s[i] = int(s[i])\n",
        "        \n",
        "    if s[0] == \"append\":\n",
        "        arr.append(s[1])\n",
        "    elif s[0] == \"extend\":    \n",
        "        arr.extend(s[1:])\n",
        "    elif s[0] == \"insert\":\n",
        "        arr.insert(s[1],s[2])\n",
        "    elif s[0] == \"remove\":\n",
        "        arr.remove(s[1])\n",
        "    elif s[0] == \"pop\":\n",
        "        arr.pop()\n",
        "    elif s[0] == \"index\":\n",
        "        print arr.index(s[1])\n",
        "    elif s[0] == \"count\":\n",
        "        print arr.count(s[1])\n",
        "    elif s[0] == \"sort\":\n",
        "        arr.sort()\n",
        "    elif s[0] == \"reverse\":\n",
        "        arr.reverse()\n",
        "    elif s[0] == \"print\":\n",
        "        print arr\n"
      ],
      "metadata": {
        "id": "ZIoWDF4_aVJc"
      },
      "execution_count": null,
      "outputs": []
    },
    {
      "cell_type": "code",
      "source": [
        "if __name__ == '__main__':\n",
        "    n = int(raw_input())\n",
        "    integer_list = map(int, raw_input().split())\n",
        "    integer_list=tuple((integer_list))\n",
        "    print(hash(integer_list))"
      ],
      "metadata": {
        "id": "MRucBbLWadDf"
      },
      "execution_count": null,
      "outputs": []
    },
    {
      "cell_type": "code",
      "source": [
        "n,m = list(map(int, input().split()))\n",
        "arr, a, b = list(map(int, input().split())), set(map(int, input().split())), set(map(int, input().split()))\n",
        "\n",
        "x = set(arr) & a \n",
        "y = set(arr) & b\n",
        "c = 0\n",
        "for i in arr:\n",
        "    if i in x: \n",
        "        c += 1\n",
        "    elif i in y: \n",
        "        c -= 1\n",
        "\n",
        "print(c)"
      ],
      "metadata": {
        "id": "LCjJ38pcaoBW"
      },
      "execution_count": null,
      "outputs": []
    },
    {
      "cell_type": "code",
      "source": [
        "input()\n",
        "M = set(map(int, input().split()))\n",
        "input()\n",
        "N = set(map(int, input().split()))\n",
        "output = sorted(list(M.union(N).difference(M.intersection(N))))\n",
        "for item in output:\n",
        "    print(item)"
      ],
      "metadata": {
        "id": "SgqOzTKXbZHV"
      },
      "execution_count": null,
      "outputs": []
    },
    {
      "cell_type": "code",
      "source": [
        "number = int(input())\n",
        "lst = []\n",
        "for i in range(number):\n",
        "    enter = input()\n",
        "    lst.append(enter)\n",
        "    \n",
        "resultado = len(set(lst))\n",
        "\n",
        "print(resultado)"
      ],
      "metadata": {
        "id": "q-Q_LAvebZ2X"
      },
      "execution_count": null,
      "outputs": []
    },
    {
      "cell_type": "code",
      "source": [
        "n = int(input())\n",
        "s = set(map(int, input().split()))\n",
        "N = int(input())\n",
        "for i in range(0,N):\n",
        "    command = input()\n",
        "    if command == 'pop':\n",
        "        s.pop()\n",
        "    else:\n",
        "        command, index = command.split()\n",
        "        s.discard(int(index))\n",
        "        \n",
        "print(sum(s))"
      ],
      "metadata": {
        "id": "Qc5uVlt5bmV1"
      },
      "execution_count": null,
      "outputs": []
    },
    {
      "cell_type": "code",
      "source": [
        "input()\n",
        "s = set(input().split())\n",
        "input()\n",
        "print(len(s.union(input().split())))"
      ],
      "metadata": {
        "id": "336zpvcjc1RK"
      },
      "execution_count": null,
      "outputs": []
    },
    {
      "cell_type": "code",
      "source": [
        "input()\n",
        "set1 = set(map(int, input().split()))\n",
        "input()\n",
        "set2 = set(map(int, input().split()))\n",
        "print(len(set1 & set2))"
      ],
      "metadata": {
        "id": "Gl7L5twBc_bg"
      },
      "execution_count": null,
      "outputs": []
    },
    {
      "cell_type": "code",
      "source": [
        "input()\n",
        "a = set(map(int, input().split()))\n",
        "input()\n",
        "b = set(map(int, input().split()))\n",
        "print(len(a-b))"
      ],
      "metadata": {
        "id": "0V2phFz5dNqr"
      },
      "execution_count": null,
      "outputs": []
    },
    {
      "cell_type": "code",
      "source": [
        "input()\n",
        "a = set(map(int, input().split()))\n",
        "input()\n",
        "b = set(map(int, input().split()))\n",
        "print(len(a.symmetric_difference(b)))"
      ],
      "metadata": {
        "id": "4cTW1Gvhdajq"
      },
      "execution_count": null,
      "outputs": []
    },
    {
      "cell_type": "code",
      "source": [
        "input()\n",
        "a = set(map(int, input().split()))\n",
        "\n",
        "for _ in range(int(input())):\n",
        "    name, *_ = input().split()\n",
        "    getattr(a, name)(set(map(int, input().split())))\n",
        "\n",
        "print(sum(a))"
      ],
      "metadata": {
        "id": "mfeZUhSSdkkD"
      },
      "execution_count": null,
      "outputs": []
    },
    {
      "cell_type": "code",
      "source": [
        "from collections import Counter\n",
        "\n",
        "input()\n",
        "print(Counter(input().split()).most_common()[-1][0])\n"
      ],
      "metadata": {
        "id": "QAFSbwfJdmvN"
      },
      "execution_count": null,
      "outputs": []
    },
    {
      "cell_type": "code",
      "source": [
        "t=int(input())\n",
        "for i in range(t):\n",
        "    l=[]\n",
        "    l1=[]\n",
        "    c=0\n",
        "    n1=int(input())\n",
        "    l=list(map(int,input().split()))\n",
        "    n2=int(input())\n",
        "    l1=list(map(int,input().split()))\n",
        "    for i in l:\n",
        "        if i in l1:\n",
        "            c=c+1\n",
        "    if c==len(l):\n",
        "        print(True)\n",
        "    else:\n",
        "        print(False)"
      ],
      "metadata": {
        "id": "HZt3f97Qd58Q"
      },
      "execution_count": null,
      "outputs": []
    },
    {
      "cell_type": "code",
      "source": [
        "A = set(input().split())\n",
        "sup = True\n",
        "for _ in range(int(input())):\n",
        "    B = set(input().split())\n",
        "    if not (A > B):\n",
        "        sup = False\n",
        "        break\n",
        "print (sup)"
      ],
      "metadata": {
        "id": "Oax-5tDfeA3T"
      },
      "execution_count": null,
      "outputs": []
    }
  ]
}