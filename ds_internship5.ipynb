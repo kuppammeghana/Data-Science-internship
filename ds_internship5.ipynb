{
  "nbformat": 4,
  "nbformat_minor": 0,
  "metadata": {
    "colab": {
      "provenance": []
    },
    "kernelspec": {
      "name": "python3",
      "display_name": "Python 3"
    },
    "language_info": {
      "name": "python"
    }
  },
  "cells": [
    {
      "cell_type": "code",
      "source": [
        "regex_pattern = r\"\\D\""
      ],
      "metadata": {
        "id": "ZEZxHHBmkwxH"
      },
      "execution_count": null,
      "outputs": []
    },
    {
      "cell_type": "code",
      "source": [
        "import re\n",
        "m = re.search(r\"([a-z0-9])\\1{1,}\", input())\n",
        "if m:\n",
        "    print(m.group(1))\n",
        "else:\n",
        "    print(-1)"
      ],
      "metadata": {
        "id": "7gH9Tbq0k54o"
      },
      "execution_count": null,
      "outputs": []
    },
    {
      "cell_type": "code",
      "source": [
        "import re\n",
        "text = r'[aeiouAEIOU^]?[aeiouAEIOU]{2,}[^aeiouAEIOU$]'\n",
        "value = re.findall(text,input())\n",
        "if value:\n",
        "    [print(i[:-1]) for i in value]\n",
        "else:\n",
        "    print(-1)"
      ],
      "metadata": {
        "id": "mVToY64nk6up"
      },
      "execution_count": null,
      "outputs": []
    },
    {
      "cell_type": "code",
      "source": [
        "import re\n",
        "s,k = input(),input()\n",
        "patter = re.compile(k)\n",
        "m=patter.search(s)\n",
        "if not m:\n",
        "        print((-1,-1))  \n",
        "while m:\n",
        "    print((m.start(),m.end()-1))\n",
        "    m=patter.search(s,m.start()+1)"
      ],
      "metadata": {
        "id": "opYhvkWjlJzB"
      },
      "execution_count": null,
      "outputs": []
    },
    {
      "cell_type": "code",
      "source": [
        "import re\n",
        "def and_or_repl(matchobj):\n",
        "    if matchobj.group(0) == '&&':\n",
        "        return \"and\"\n",
        "    elif matchobj.group(0) == '||':\n",
        "        return \"or\"\n",
        "num_lines = int(input().rstrip())\n",
        "for _ in range(num_lines):\n",
        "    s = input()\n",
        "    print(re.sub(r'(?<=\\s)(&&|\\|\\|)(?=\\s)', and_or_repl, s))"
      ],
      "metadata": {
        "id": "DQifBiSplMFP"
      },
      "execution_count": null,
      "outputs": []
    },
    {
      "cell_type": "code",
      "source": [
        "regex_pattern = r\"^((?P<a>[IVXCDM])(?!(?P=a){3})|(?P<l>L)(?!(?P=l)))+$\"  "
      ],
      "metadata": {
        "id": "99qrkQSpliuJ"
      },
      "execution_count": null,
      "outputs": []
    },
    {
      "cell_type": "code",
      "source": [
        "for _ in range(int(input())):\n",
        "    print('YES' if bool(__import__('re').match('^[789]{1}\\d{9}$', input())) else 'NO')"
      ],
      "metadata": {
        "id": "1f4Nkgw0l9Q8"
      },
      "execution_count": null,
      "outputs": []
    },
    {
      "cell_type": "code",
      "source": [
        "import re\n",
        "for _ in range(int(input())):\n",
        "    s = input()\n",
        "    if re.search(r'<[a-zA-Z][\\w\\-.]+@[a-zA-Z]+\\.[a-zA-Z]{1,3}>', s):\n",
        "        print(s)"
      ],
      "metadata": {
        "id": "1YUZSwFYl-Lh"
      },
      "execution_count": null,
      "outputs": []
    },
    {
      "cell_type": "code",
      "source": [
        "import re\n",
        "regex = re.compile(\n",
        "    r'.#[0-9a-fA-F]{3,6}'\n",
        ")\n",
        "text = '\\n'.join([input() for _ in range(int(input()))])\n",
        "for code in regex.findall(text):\n",
        "    print(code[1:])"
      ],
      "metadata": {
        "id": "yiNfA5GxmNgD"
      },
      "execution_count": null,
      "outputs": []
    },
    {
      "cell_type": "code",
      "source": [
        "rom html.parser import HTMLParser\n",
        "class MyHTMLParser(HTMLParser):\n",
        "    def handle_starttag(self, tag, attrs):\n",
        "        print(f\"Start : {tag}\")\n",
        "        for name,value in attrs:\n",
        "            print(f\"-> {name} > {value}\")\n",
        "    def handle_startendtag(self, tag, attrs):\n",
        "        print(f\"Empty : {tag}\")\n",
        "        for name,value in attrs:\n",
        "            print(f\"-> {name} > {value}\")\n",
        "    def handle_endtag(self, tag):\n",
        "        print(f\"End   : {tag}\")\n",
        "parser = MyHTMLParser()\n",
        "for _ in range(int(input())):\n",
        "    parser.feed(input())\n",
        "parser.close()"
      ],
      "metadata": {
        "id": "JZ04bXNRnEq9"
      },
      "execution_count": null,
      "outputs": []
    },
    {
      "cell_type": "code",
      "source": [
        "import re\n",
        "pattern_a = r'([\\d])\\1{1}-?\\1{2}'\n",
        "pattern_b = r'^[456]\\d{3}-?\\d{4}-?\\d{4}-?\\d{4}-?'\n",
        "n = int(input())\n",
        "for i in range(n):\n",
        "    string = input()\n",
        "    if not bool(re.fullmatch(pattern_b,string)):\n",
        "        print ('Invalid')\n",
        "    elif bool(re.search(pattern_a, string)):\n",
        "        print ('Invalid')\n",
        "    else:\n",
        "        print ('Valid')"
      ],
      "metadata": {
        "id": "7QnEShdgnJu2"
      },
      "execution_count": null,
      "outputs": []
    }
  ]
}