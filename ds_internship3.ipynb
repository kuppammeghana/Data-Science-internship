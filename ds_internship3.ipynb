{
  "nbformat": 4,
  "nbformat_minor": 0,
  "metadata": {
    "colab": {
      "provenance": []
    },
    "kernelspec": {
      "name": "python3",
      "display_name": "Python 3"
    },
    "language_info": {
      "name": "python"
    }
  },
  "cells": [
    {
      "cell_type": "code",
      "source": [
        "from math import atan , pi\n",
        "import math\n",
        "A = int(input())\n",
        "B = int(input())\n",
        "C = 180/pi * atan(A/B)\n",
        "print(round(C),chr(176),sep='')"
      ],
      "metadata": {
        "id": "4lGasFRIeYdA"
      },
      "execution_count": null,
      "outputs": []
    },
    {
      "cell_type": "code",
      "source": [
        "for i in range(1,int(input())+1): print(pow(pow(10,i)//9, 2))"
      ],
      "metadata": {
        "id": "oaB4noeye3vE"
      },
      "execution_count": null,
      "outputs": []
    },
    {
      "cell_type": "code",
      "source": [
        "a,b = int(input()), int(input())\n",
        "t = divmod(a,b)\n",
        "print(f\"{t[0]}\\n{t[1]}\\n{t}\")"
      ],
      "metadata": {
        "id": "zTQ6ibF-fpJT"
      },
      "execution_count": null,
      "outputs": []
    },
    {
      "cell_type": "code",
      "source": [
        "a=int(input())\n",
        "b=int(input())\n",
        "m=int(input())\n",
        "print(pow(a,b))\n",
        "print(pow(a,b,m))"
      ],
      "metadata": {
        "id": "z4h2Nj2ffwrR"
      },
      "execution_count": null,
      "outputs": []
    },
    {
      "cell_type": "code",
      "source": [
        "a=int(input())\n",
        "b=int(input())\n",
        "c=int(input())\n",
        "d=int(input())\n",
        "print(pow(a,b)+pow(c,d))"
      ],
      "metadata": {
        "id": "u9vJrAiXfzBv"
      },
      "execution_count": null,
      "outputs": []
    },
    {
      "cell_type": "code",
      "source": [
        "for i in range(1, int(input())): print((10**i // 9) * i)\n"
      ],
      "metadata": {
        "id": "CbAEI0_Pf9Cz"
      },
      "execution_count": null,
      "outputs": []
    }
  ]
}