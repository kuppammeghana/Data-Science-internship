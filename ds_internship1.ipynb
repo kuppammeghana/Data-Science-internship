{
  "nbformat": 4,
  "nbformat_minor": 0,
  "metadata": {
    "colab": {
      "provenance": []
    },
    "kernelspec": {
      "name": "python3",
      "display_name": "Python 3"
    },
    "language_info": {
      "name": "python"
    }
  },
  "cells": [
    {
      "cell_type": "code",
      "source": [
        "class Solution:\n",
        "    def runningSum(self, nums: List[int]) -> List[int]:\n",
        "        s=nums[0]\n",
        "        for i in range(1,len(nums)):\n",
        "            s=s+nums[i]\n",
        "            nums[i]=s\n",
        "        return nums"
      ],
      "metadata": {
        "id": "uKMJqO1_WJeI"
      },
      "execution_count": null,
      "outputs": []
    },
    {
      "cell_type": "code",
      "source": [
        "class Solution:\n",
        "    def shuffle(self, nums: List[int], n: int) -> List[int]:\n",
        "        return [nums[x + n * y] for x in range(n) for y in range(2)]"
      ],
      "metadata": {
        "id": "BVzBzPa9WKtJ"
      },
      "execution_count": null,
      "outputs": []
    },
    {
      "cell_type": "code",
      "source": [
        "class Solution:\n",
        "    def kidsWithCandies(self, candies: List[int], extraCandies: int) -> List[bool]:\n",
        "        m=max(candies)\n",
        "        a=[]\n",
        "        for i in candies:\n",
        "            if i+extraCandies >= m:\n",
        "                a.append(True)\n",
        "            else:\n",
        "                a.append(False)\n",
        "        return a"
      ],
      "metadata": {
        "id": "HSSlt0juWvvX"
      },
      "execution_count": null,
      "outputs": []
    }
  ]
}